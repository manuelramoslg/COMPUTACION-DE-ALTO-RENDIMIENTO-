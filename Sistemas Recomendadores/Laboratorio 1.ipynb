{
 "cells": [
  {
   "cell_type": "markdown",
   "metadata": {},
   "source": [
    "# Laboratorio 1\n",
    "\n",
    "\n",
    "- **Fecha Inicio**: Miércoles 18 de abril del 2018\n",
    "- **Entrega Informe**: Domingo 29 de abril del 2018"
   ]
  },
  {
   "cell_type": "markdown",
   "metadata": {},
   "source": [
    "# Instalación\n",
    "\n",
    "Para facilitar el proceso de instalación de esta actividad, trabajaremos con una máquina virtual que tendrá _casi_ todos los programas instalados.\n",
    "\n",
    "Como motor de máquinas virtuales usaremos [Virtual Box](https://www.virtualbox.org/wiki/Downloads). Desde ese link tendrán que descargar la versión que mejor se ajuste a su sistema operativo. Luego desde los servidores de la universidad deben descargar la [máquina virtual](http://niebla.ing.puc.cl/diplomadobigdata/vbox-pyreclab-lda.ova) ya configurada.\n",
    "\n",
    "Finalmente debemos importar la máquina descargada dentro de Virtual Box, para ello deben seguir los siguientes pasos: Abrir virtual box > Archivo > Abrir servicio virtualizado, o bien `Crtl+I`.\n",
    "\n",
    "**Observación:** la contraseña del usuario configurado es _ubuntu_.\n",
    "\n",
    "Una vez abierto la máquina virtual, abrir la consola o terminal y escribir los siguiente comandos:\n",
    "\n",
    "```bash\n",
    "$ sudo apt-get install git\n",
    "$ sudo pip3 install jupyter\n",
    "$ sudo pip3 install matplotlib\n",
    "```\n",
    "\n",
    "Descargar este proyecto ya sea con `git` o mediante el botón de descargar y ejecutar `notebook`.\n",
    "\n",
    "```bash\n",
    "$ git clone https://github.com/stgolarrain/recsys-labs.git\n",
    "$ cd recsys-labs/assignment-1\n",
    "$ jupyter notebook\n",
    "```"
   ]
  },
  {
   "cell_type": "markdown",
   "metadata": {},
   "source": [
    "## Instrucciones\n",
    "\n",
    "En este laboratorio explorarán la herramienta de sistemas de recomendación pyreclab.\n",
    "\n",
    "La biblioteca [pyreclab]( https://github.com/gasevi/pyreclab ) es una librería que implementa una serie de técnicas y modelos de recomandación, exponiendo una interfaz de fácil uso manteniendo un buen rendimiento en meoria y en CPU.\n",
    "\n",
    "En este laboratorio ejecutaremos los scripts de la carpeta [examples]( https://github.com/gasevi/pyreclab/tree/master/examples ) de la librería y evaluaremos cómo se comportan las métricas _RMSE_ y _MAE_, frente a diferentes parámetros.\n",
    "\n",
    "La librería puede ser instalada ejecutando el siguiente comando en la consola:\n",
    "```bash\n",
    "$  pip install pyreclab\n",
    "```\n",
    "\n",
    "Para facilitar la experiencia del laboratorio los archivos de ejemplo han sido guardados en la subcarpeta `src`."
   ]
  },
  {
   "cell_type": "markdown",
   "metadata": {},
   "source": [
    "## Laboratorio\n",
    "\n",
    "A continuación deberá ejecutar las siguientes celdas y responder a las preguntas."
   ]
  },
  {
   "cell_type": "code",
   "execution_count": 1,
   "metadata": {},
   "outputs": [
    {
     "name": "stdout",
     "output_type": "stream",
     "text": [
      "-> training model\n",
      "training time: 0.0019890000000000185\n",
      "-> individual test\n",
      "user 457, item 443, prediction 4.026022434234619\n",
      "recommendation for user 457: ['1682', '1681', '907', '1680', '1679']\n",
      "-> prediction test\n",
      "prediction time: 0.10078399999999998\n",
      "MAE: 0.8501912740150503\n",
      "RMSE: 1.0629951276561314\n",
      "-> recommendation test\n",
      "recommendation time: 0.30183000000000004\n"
     ]
    }
   ],
   "source": [
    "# Do not change this cell\n",
    "from src import testUserAvg\n",
    "testUserAvg.main()"
   ]
  },
  {
   "cell_type": "code",
   "execution_count": 2,
   "metadata": {},
   "outputs": [],
   "source": [
    "import matplotlib.pyplot as plt\n",
    "%matplotlib inline"
   ]
  },
  {
   "cell_type": "code",
   "execution_count": 3,
   "metadata": {},
   "outputs": [
    {
     "name": "stdout",
     "output_type": "stream",
     "text": [
      "-> training model\n",
      "training time: 0.003433999999999937\n",
      "-> individual test\n",
      "user 457, item 443, prediction 3.7933883666992188\n",
      "recommendation for user 457: ['1500', '1653', '1599', '1189', '1467']\n",
      "-> prediction test\n",
      "prediction time: 0.10030800000000006\n",
      "MAE: 0.8275684032890033\n",
      "RMSE: 1.0334113714152886\n",
      "-> recommendation test\n",
      "recommendation time: 0.48391399999999996\n"
     ]
    }
   ],
   "source": [
    "# Do not change this cell\n",
    "from src import testItemAvg\n",
    "testItemAvg.main()"
   ]
  },
  {
   "cell_type": "code",
   "execution_count": 4,
   "metadata": {},
   "outputs": [
    {
     "name": "stdout",
     "output_type": "stream",
     "text": [
      "-> training model\n",
      "training time: 0.5404530000000003\n",
      "-> individual test\n",
      "user 457, item 443, prediction 4.4962687492370605\n",
      "recommendation for user 457: ['1500', '1656', '1653', '1651', '1650']\n",
      "-> prediction test\n",
      "prediction time: 0.20463999999999993\n",
      "MAE: 0.7471245299823451\n",
      "RMSE: 0.950499582413917\n",
      "-> recommendation test\n",
      "recommendation time: 2.063913\n"
     ]
    }
   ],
   "source": [
    "# Do not change this cell\n",
    "from src import testSlopeOne\n",
    "testSlopeOne.main()"
   ]
  },
  {
   "cell_type": "code",
   "execution_count": 5,
   "metadata": {},
   "outputs": [
    {
     "name": "stdout",
     "output_type": "stream",
     "text": [
      "-> training model\n",
      "training time: 3.374567\n",
      "-> individual test\n",
      "user 457, item 443, prediction 4.36204195022583\n",
      "recommendation for user 457: ['1467', '1599', '1642', '1653', '1358']\n",
      "-> prediction test\n",
      "prediction time: 3.7446859999999997\n",
      "MAE: 0.7767656495474826\n",
      "RMSE: 0.9888193333673915\n",
      "-> recommendation test\n",
      "recommendation time: 98.336287\n",
      "-> training model\n",
      "training time: 3.3432810000000046\n",
      "-> individual test\n",
      "user 457, item 443, prediction 4.36233377456665\n",
      "recommendation for user 457: ['1467', '1599', '1642', '1653', '1358']\n",
      "-> prediction test\n",
      "prediction time: 3.9749770000000098\n",
      "MAE: 0.7529654748945087\n",
      "RMSE: 0.9598757415248955\n",
      "-> recommendation test\n",
      "recommendation time: 100.519366\n",
      "-> training model\n",
      "training time: 3.3241199999999935\n",
      "-> individual test\n",
      "user 457, item 443, prediction 4.338381290435791\n",
      "recommendation for user 457: ['1467', '1599', '1642', '1653', '1358']\n",
      "-> prediction test\n",
      "prediction time: 3.8605929999999944\n",
      "MAE: 0.7533991815654608\n",
      "RMSE: 0.9600979459211264\n",
      "-> recommendation test\n",
      "recommendation time: 100.08209499999998\n"
     ]
    }
   ],
   "source": [
    "# Do not change this cell\n",
    "from src import testUserKnn\n",
    "\n",
    "k_values = [10, 50, 100]\n",
    "mae_values = []\n",
    "rmse_values = []\n",
    "\n",
    "for k in k_values:\n",
    "    mae, rmse = testUserKnn.main(k=k)\n",
    "    mae_values.append(mae)\n",
    "    rmse_values.append(rmse)\n"
   ]
  },
  {
   "cell_type": "markdown",
   "metadata": {},
   "source": [
    "En la próxima celda deberá graficar los diferentes valores de las métricas MAE y RMSE utilizando la librería [matplotlib](https://matplotlib.org/). Se recomienda revisar el siguiente [tutorial](https://matplotlib.org/users/pyplot_tutorial.html).\n",
    "\n",
    "_Hint:_ Se recomienda guardar el resultado de las métricas en un arreglo y luego graficar."
   ]
  },
  {
   "cell_type": "code",
   "execution_count": 6,
   "metadata": {},
   "outputs": [
    {
     "data": {
      "image/png": "[encoded data removed]",
      "text/plain": [
       "<Figure size 432x288 with 1 Axes>"
      ]
     },
     "metadata": {},
     "output_type": "display_data"
    }
   ],
   "source": [
    "# Do not change this cell\n",
    "# Plotting MAE values\n",
    "plt.plot(k_values, mae_values, 'ro')\n",
    "plt.show()"
   ]
  },
  {
   "cell_type": "code",
   "execution_count": 7,
   "metadata": {
    "scrolled": true
   },
   "outputs": [
    {
     "name": "stdout",
     "output_type": "stream",
     "text": [
      "-> training model\n",
      "training time: 3.2991250000000036\n",
      "-> individual test\n",
      "user 457, item 443, prediction 4.36204195022583\n",
      "recommendation for user 457: ['1467', '1599', '1642', '1653', '1358']\n",
      "-> prediction test\n",
      "prediction time: 3.520338000000038\n",
      "MAE: 0.7767656495474826\n",
      "RMSE: 0.9888193333673915\n",
      "-> recommendation test\n",
      "recommendation time: 98.490027\n",
      "-> training model\n",
      "training time: 3.337670000000003\n",
      "-> individual test\n",
      "user 457, item 443, prediction 4.522143840789795\n",
      "recommendation for user 457: ['1467', '1599', '1642', '1653', '1358']\n",
      "-> prediction test\n",
      "prediction time: 3.8826629999999795\n",
      "MAE: 0.7614882398877825\n",
      "RMSE: 0.9699299628041558\n",
      "-> recommendation test\n",
      "recommendation time: 99.53953400000006\n",
      "-> training model\n",
      "training time: 3.400722000000087\n",
      "-> individual test\n",
      "user 457, item 443, prediction 4.365060329437256\n",
      "recommendation for user 457: ['1467', '1599', '1642', '1653', '1358']\n",
      "-> prediction test\n",
      "prediction time: 3.736466999999948\n",
      "MAE: 0.7553750289561436\n",
      "RMSE: 0.9626955333530711\n",
      "-> recommendation test\n",
      "recommendation time: 99.72788800000001\n",
      "-> training model\n",
      "training time: 3.339945000000057\n",
      "-> individual test\n",
      "user 457, item 443, prediction 4.345706462860107\n",
      "recommendation for user 457: ['1467', '1599', '1642', '1653', '1358']\n",
      "-> prediction test\n",
      "prediction time: 3.846857\n",
      "MAE: 0.7535053957445695\n",
      "RMSE: 0.9605226288586594\n",
      "-> recommendation test\n",
      "recommendation time: 100.17954500000008\n",
      "-> training model\n",
      "training time: 3.42278500000009\n",
      "-> individual test\n",
      "user 457, item 443, prediction 4.36233377456665\n",
      "recommendation for user 457: ['1467', '1599', '1642', '1653', '1358']\n",
      "-> prediction test\n",
      "prediction time: 4.245273999999995\n",
      "MAE: 0.7529654748945087\n",
      "RMSE: 0.9598757415248955\n",
      "-> recommendation test\n",
      "recommendation time: 104.74259200000006\n",
      "-> training model\n",
      "training time: 3.3222180000000208\n",
      "-> individual test\n",
      "user 457, item 443, prediction 4.3665690422058105\n",
      "recommendation for user 457: ['1467', '1599', '1642', '1653', '1358']\n",
      "-> prediction test\n",
      "prediction time: 3.927642999999989\n",
      "MAE: 0.7525782968523747\n",
      "RMSE: 0.959255726918738\n",
      "-> recommendation test\n",
      "recommendation time: 100.50102700000002\n",
      "-> training model\n",
      "training time: 3.202144999999973\n",
      "-> individual test\n",
      "user 457, item 443, prediction 4.327147006988525\n",
      "recommendation for user 457: ['1467', '1599', '1642', '1653', '1358']\n",
      "-> prediction test\n",
      "prediction time: 3.7797050000000354\n",
      "MAE: 0.7526014631086486\n",
      "RMSE: 0.9593195970472973\n",
      "-> recommendation test\n",
      "recommendation time: 100.50805000000003\n",
      "-> training model\n",
      "training time: 3.292410999999902\n",
      "-> individual test\n",
      "user 457, item 443, prediction 4.339911460876465\n",
      "recommendation for user 457: ['1467', '1599', '1642', '1653', '1358']\n",
      "-> prediction test\n",
      "prediction time: 3.8625509999999394\n",
      "MAE: 0.7528015121616018\n",
      "RMSE: 0.9595666160660957\n",
      "-> recommendation test\n",
      "recommendation time: 101.32373299999995\n",
      "-> training model\n",
      "training time: 3.2985069999999723\n",
      "-> individual test\n",
      "user 457, item 443, prediction 4.335420608520508\n",
      "recommendation for user 457: ['1467', '1599', '1642', '1653', '1358']\n",
      "-> prediction test\n",
      "prediction time: 3.9209659999999076\n",
      "MAE: 0.7531418148443579\n",
      "RMSE: 0.9598933995836098\n",
      "-> recommendation test\n",
      "recommendation time: 103.26963100000012\n",
      "-> training model\n",
      "training time: 3.398632000000134\n",
      "-> individual test\n",
      "user 457, item 443, prediction 4.338381290435791\n",
      "recommendation for user 457: ['1467', '1599', '1642', '1653', '1358']\n",
      "-> prediction test\n",
      "prediction time: 3.9262330000001384\n",
      "MAE: 0.7533991815654608\n",
      "RMSE: 0.9600979459211264\n",
      "-> recommendation test\n",
      "recommendation time: 105.28905699999996\n",
      "-> training model\n",
      "training time: 3.4652889999999843\n",
      "-> individual test\n",
      "user 457, item 443, prediction 4.3229265213012695\n",
      "recommendation for user 457: ['1467', '1599', '1642', '1653', '1358']\n",
      "-> prediction test\n",
      "prediction time: 4.154459999999972\n",
      "MAE: 0.7541259003153702\n",
      "RMSE: 0.9608035187146137\n",
      "-> recommendation test\n",
      "recommendation time: 108.93162600000005\n"
     ]
    }
   ],
   "source": [
    "k_values_1 = [10, 20, 30, 40, 50, 60, 70, 80, 90, 100, 150]\n",
    "mae_values = []\n",
    "rmse_values = []\n",
    "\n",
    "for k in k_values_1:\n",
    "    mae, rmse = testUserKnn.main(k=k)\n",
    "    mae_values.append(mae)\n",
    "    rmse_values.append(rmse)"
   ]
  },
  {
   "cell_type": "code",
   "execution_count": 8,
   "metadata": {},
   "outputs": [
    {
     "data": {
      "image/png": "[encoded data removed]",
      "text/plain": [
       "<Figure size 432x288 with 1 Axes>"
      ]
     },
     "metadata": {},
     "output_type": "display_data"
    }
   ],
   "source": [
    "# TODO: Plot RMSE values for different value of K\n",
    "plt.plot(k_values_1, rmse_values, 'go')\n",
    "plt.show()"
   ]
  },
  {
   "cell_type": "markdown",
   "metadata": {},
   "source": [
    "**Pregunta**\n",
    "En la celda anterior debe modificar el código para que ejecutar User KNN modificando el parámetro de la vecindad **K**. ¿Cuál es el efecto del parametro **K** en el valor de RMSE y MAE? Grafique el resultado utilizando la librería `matplotlib`.\n",
    "\n",
    "**Respuesta**\n",
    "\n",
    "En esta iteración se agregaron más parametros al arreglo de k_values_1, con el fin de porder econtrar con mayor exactitud el valor optimo de k.\n",
    "\n",
    "Como se pude apreciar en la grafica el mejor resultado de k es 60, punto en donde se grafican menos errores.\n",
    "\n",
    "Tanto MAE como RMSE expresan el error de predicción del modelo promedio en unidades de la variable de interés. Las puntuaciones son negativamente orientadas, lo que significa que los valores más bajos son mejores.\n",
    "\n"
   ]
  },
  {
   "cell_type": "code",
   "execution_count": 9,
   "metadata": {},
   "outputs": [
    {
     "name": "stdout",
     "output_type": "stream",
     "text": [
      "-> training model\n",
      "training time: 8.204842999999983\n",
      "-> individual test\n",
      "user 457, item 443, prediction 4.500632286071777\n",
      "recommendation for user 457: ['1449', '1367', '1639', '1642', '119']\n",
      "-> prediction test\n",
      "prediction time: 4.5225339999999505\n",
      "MAE: 0.7828952915105929\n",
      "RMSE: 0.9946687256820582\n",
      "-> recommendation test\n",
      "recommendation time: 154.66021\n",
      "-> training model\n",
      "training time: 8.481172000000015\n",
      "-> individual test\n",
      "user 457, item 443, prediction 4.4030632972717285\n",
      "recommendation for user 457: ['1367', '1642', '1449', '1594', '850']\n",
      "-> prediction test\n",
      "prediction time: 4.727350999999999\n",
      "MAE: 0.7496633748812664\n",
      "RMSE: 0.9537725173764953\n",
      "-> recommendation test\n",
      "recommendation time: 158.6946170000001\n",
      "-> training model\n",
      "training time: 8.427657999999838\n",
      "-> individual test\n",
      "user 457, item 443, prediction 4.424063682556152\n",
      "recommendation for user 457: ['1367', '1449', '1642', '1594', '850']\n",
      "-> prediction test\n",
      "prediction time: 4.879505999999992\n",
      "MAE: 0.7478900193381977\n",
      "RMSE: 0.9513445209906717\n",
      "-> recommendation test\n",
      "recommendation time: 159.05209700000023\n"
     ]
    }
   ],
   "source": [
    "# TODO: Change this cell to execute with k = [10, 50, 100]\n",
    "from src import testItemKnn\n",
    "\n",
    "mae_values = []\n",
    "rmse_values = []\n",
    "\n",
    "for k in k_values:\n",
    "    mae, rmse = testItemKnn.main(k=k)\n",
    "    mae_values.append(mae)\n",
    "    rmse_values.append(rmse)"
   ]
  },
  {
   "cell_type": "code",
   "execution_count": 10,
   "metadata": {},
   "outputs": [
    {
     "data": {
      "image/png": "[encoded data removed]",
      "text/plain": [
       "<Figure size 432x288 with 1 Axes>"
      ]
     },
     "metadata": {},
     "output_type": "display_data"
    }
   ],
   "source": [
    "# TODO: Plot MAE values for different value of K\n",
    "plt.plot(k_values, mae_values, 'ro')\n",
    "plt.show()"
   ]
  },
  {
   "cell_type": "code",
   "execution_count": 11,
   "metadata": {},
   "outputs": [
    {
     "data": {
      "image/png": "[encoded data removed]",
      "text/plain": [
       "<Figure size 432x288 with 1 Axes>"
      ]
     },
     "metadata": {},
     "output_type": "display_data"
    }
   ],
   "source": [
    "# TODO: Plot RMSE values for different value of K\n",
    "plt.plot(k_values, rmse_values, 'ro')\n",
    "plt.show()"
   ]
  },
  {
   "cell_type": "markdown",
   "metadata": {},
   "source": [
    "**Pregunta**\n",
    "En la celda anterior debe modificar el código para que ejecutar Item KNN modificando el parámetro de la vencidad **K**. ¿Cuál es el efecto del parametro **K** en el valor de RMSE y MAE? Grafique el resultado utilizando la librería `matplotlib`.\n",
    "\n",
    "**Respuesta**\n",
    "En esta iteración se agregaron más parametros al arreglo de k_values, con el fin de poder encontrar con mayor exactitud el valor optimo de k.\n",
    "\n",
    "Como se pude apreciar en la grafica el mejor resultado de k es 100, punto en donde se grafican menos errores.\n",
    "\n",
    "Tanto MAE como RMSE expresan el error de predicción del modelo promedio en unidades de la variable de interés. Las puntuaciones son negativamente orientadas, lo que significa que los valores más bajos son mejores.\n",
    "\n"
   ]
  },
  {
   "cell_type": "markdown",
   "metadata": {},
   "source": [
    "**(OPCIONAL)**\n",
    "Al completar esta pregunta bonus adicional tendrán 1 punto extra en la nota final.\n",
    "\n",
    "Deberán ejecutar FunkSVD con distintos valores de dimensiones latentes y graficar efecto de dimensiones latentes (eje x) sobre el RMSE (eje y)."
   ]
  },
  {
   "cell_type": "code",
   "execution_count": 12,
   "metadata": {},
   "outputs": [
    {
     "name": "stdout",
     "output_type": "stream",
     "text": [
      "-> training model\n",
      "training time: 0.768289999999979\n",
      "-> individual test\n",
      "user 457, item 443, prediction 4.380512714385986\n",
      "recommendation for user 457: ['1449', '408', '1500', '480', '515']\n",
      "-> prediction test\n",
      "prediction time: 0.120049999999992\n",
      "MAE: 0.7356262999094377\n",
      "RMSE: 0.9343512132554852\n",
      "-> recommendation test\n",
      "recommendation time: 0.27814200000011624\n",
      "-> training model\n",
      "training time: 1.0580110000000786\n",
      "-> individual test\n",
      "user 457, item 443, prediction 4.430875778198242\n",
      "recommendation for user 457: ['1449', '408', '1642', '1467', '1064']\n",
      "-> prediction test\n",
      "prediction time: 0.10709899999983463\n",
      "MAE: 0.7304417993364014\n",
      "RMSE: 0.9260434606349293\n",
      "-> recommendation test\n",
      "recommendation time: 0.2972819999999956\n",
      "-> training model\n",
      "training time: 1.4058899999999994\n",
      "-> individual test\n",
      "user 457, item 443, prediction 4.414416313171387\n",
      "recommendation for user 457: ['1449', '1642', '408', '1368', '1367']\n",
      "-> prediction test\n",
      "prediction time: 0.11426600000004328\n",
      "MAE: 0.7338524621957213\n",
      "RMSE: 0.9292388805715033\n",
      "-> recommendation test\n",
      "recommendation time: 0.32146300000022165\n",
      "-> training model\n",
      "training time: 1.842000999999982\n",
      "-> individual test\n",
      "user 457, item 443, prediction 4.39520263671875\n",
      "recommendation for user 457: ['1449', '1467', '408', '603', '657']\n",
      "-> prediction test\n",
      "prediction time: 0.11680400000022928\n",
      "MAE: 0.7319389957621206\n",
      "RMSE: 0.9253711760710129\n",
      "-> recommendation test\n",
      "recommendation time: 0.34892500000023574\n",
      "-> training model\n",
      "training time: 2.2569689999995717\n",
      "-> individual test\n",
      "user 457, item 443, prediction 4.350866794586182\n",
      "recommendation for user 457: ['1449', '408', '1500', '1642', '1467']\n",
      "-> prediction test\n",
      "prediction time: 0.10982800000010684\n",
      "MAE: 0.7319590896885934\n",
      "RMSE: 0.9264438208777221\n",
      "-> recommendation test\n",
      "recommendation time: 0.36785599999984697\n",
      "-> training model\n",
      "training time: 2.6041230000000724\n",
      "-> individual test\n",
      "user 457, item 443, prediction 4.386810302734375\n",
      "recommendation for user 457: ['1449', '1467', '408', '513', '1642']\n",
      "-> prediction test\n",
      "prediction time: 0.1180819999999585\n",
      "MAE: 0.7323251812285406\n",
      "RMSE: 0.9254147231601448\n",
      "-> recommendation test\n",
      "recommendation time: 0.4005729999998948\n",
      "-> training model\n",
      "training time: 2.9439720000000307\n",
      "-> individual test\n",
      "user 457, item 443, prediction 4.383707046508789\n",
      "recommendation for user 457: ['1449', '408', '513', '1467', '1367']\n",
      "-> prediction test\n",
      "prediction time: 0.11493900000004942\n",
      "MAE: 0.7320123332014472\n",
      "RMSE: 0.9253245656881797\n",
      "-> recommendation test\n",
      "recommendation time: 0.4339330000002519\n",
      "-> training model\n",
      "training time: 3.4065749999999753\n",
      "-> individual test\n",
      "user 457, item 443, prediction 4.39370584487915\n",
      "recommendation for user 457: ['1449', '408', '1467', '1642', '1293']\n",
      "-> prediction test\n",
      "prediction time: 0.1169529999997394\n",
      "MAE: 0.7314121073463882\n",
      "RMSE: 0.9251811206282529\n",
      "-> recommendation test\n",
      "recommendation time: 0.42406400000027134\n",
      "-> training model\n",
      "training time: 3.7227640000000974\n",
      "-> individual test\n",
      "user 457, item 443, prediction 4.406536102294922\n",
      "recommendation for user 457: ['1449', '408', '1642', '513', '1467']\n",
      "-> prediction test\n",
      "prediction time: 0.12018599999964863\n",
      "MAE: 0.7312354259933826\n",
      "RMSE: 0.9242341871051128\n",
      "-> recommendation test\n",
      "recommendation time: 0.4419109999998909\n",
      "-> training model\n",
      "training time: 4.105086000000028\n",
      "-> individual test\n",
      "user 457, item 443, prediction 4.379634857177734\n",
      "recommendation for user 457: ['1449', '408', '1642', '1467', '513']\n",
      "-> prediction test\n",
      "prediction time: 0.1606219999998757\n",
      "MAE: 0.7316338326069253\n",
      "RMSE: 0.9237720580886377\n",
      "-> recommendation test\n",
      "recommendation time: 0.46077900000000227\n",
      "-> training model\n",
      "training time: 6.198456000000078\n",
      "-> individual test\n",
      "user 457, item 443, prediction 4.433897018432617\n",
      "recommendation for user 457: ['1449', '408', '513', '480', '1467']\n",
      "-> prediction test\n",
      "prediction time: 0.11951299999964249\n",
      "MAE: 0.7312034024277981\n",
      "RMSE: 0.9232066235023018\n",
      "-> recommendation test\n",
      "recommendation time: 0.5156699999997727\n"
     ]
    }
   ],
   "source": [
    "# TODO: complete bonus\n",
    "from src import testFunkSvd\n",
    "\n",
    "factors_values = [10, 20, 30, 40, 50, 60, 70, 80, 90, 100, 150]\n",
    "mae_values = []\n",
    "rmse_values = []\n",
    "\n",
    "for f in factors_values:\n",
    "    mae, rmse = testFunkSvd.main(factors=f)\n",
    "    mae_values.append(mae)\n",
    "    rmse_values.append(rmse)  \n",
    "\n"
   ]
  },
  {
   "cell_type": "code",
   "execution_count": 13,
   "metadata": {},
   "outputs": [
    {
     "data": {
      "image/png": "[encoded data removed]",
      "text/plain": [
       "<Figure size 432x288 with 1 Axes>"
      ]
     },
     "metadata": {},
     "output_type": "display_data"
    }
   ],
   "source": [
    "# TODO: Plot MAE values for different value of K\n",
    "plt.plot(factors_values, mae_values, 'yo')\n",
    "plt.show()"
   ]
  },
  {
   "cell_type": "code",
   "execution_count": 14,
   "metadata": {},
   "outputs": [
    {
     "data": {
      "image/png": "[encoded data removed]",
      "text/plain": [
       "<Figure size 432x288 with 1 Axes>"
      ]
     },
     "metadata": {},
     "output_type": "display_data"
    }
   ],
   "source": [
    "# TODO: Plot RMSE values for different value of K\n",
    "plt.plot(factors_values, rmse_values, 'yo')\n",
    "plt.show()"
   ]
  },
  {
   "cell_type": "markdown",
   "metadata": {},
   "source": [
    "## Entregable\n",
    "\n",
    "Una vez completado el laboratorio y respondido las preguntas deberán exportar este archivo en formato `html` y subir a la plataforma _Moodle_.\n",
    "\n",
    "Para exportar este archivo deben ir a `File > Donwload as > HTML (.html)`\n",
    "\n",
    "Si tienen algún problema o duda enviar mail a **dparra [at] ing [dot] puc [dot] cl** o **slarrain [at] uc [dot] cl** anteponiendo [Diplomada Bog Data] en el asunto."
   ]
  },
  {
   "cell_type": "code",
   "execution_count": null,
   "metadata": {},
   "outputs": [],
   "source": []
  }
 ],
 "metadata": {
  "kernelspec": {
   "display_name": "Python 3",
   "language": "python",
   "name": "python3"
  },
  "language_info": {
   "codemirror_mode": {
    "name": "ipython",
    "version": 3
   },
   "file_extension": ".py",
   "mimetype": "text/x-python",
   "name": "python",
   "nbconvert_exporter": "python",
   "pygments_lexer": "ipython3",
   "version": "3.6.5"
  }
 },
 "nbformat": 4,
 "nbformat_minor": 2
}
