{
 "cells": [
  {
   "cell_type": "markdown",
   "metadata": {},
   "source": [
    "# Laboratorio 3\n",
    "\n",
    "> **Tiempo:** -\n",
    "\n",
    "> **Entrega de informe:** -\n",
    "\n",
    "> **Manuel Alejandro Ramos La Gambino** \n"
   ]
  },
  {
   "cell_type": "markdown",
   "metadata": {},
   "source": [
    "## Instalación\n",
    "\n",
    "Para facilitar el proceso de instalación de esta actividad, trabajaremos con una máquina virtual que tendrá _casi_ todos los programas instalados.\n",
    "\n",
    "Como motor de máquinas virtuales usaremos [Virtual Box](https://www.virtualbox.org/wiki/Downloads). Desde ese link tendrán que descargar la versión que mejor se ajuste a su sistema operativo. Luego desde los servidores de la universidad deben descargar la [máquina virtual](http://niebla.ing.puc.cl/diplomadobigdata/Lab%202.ova) ya configurada.\n",
    "\n",
    "Finalmente debemos importar la máquina descargada dentro de Virtual Box, para ello deben seguir los siguientes pasos: Abrir virtual box > Archivo > Abrir servicio virtualizado, o bien `Crtl+I`.\n",
    "\n",
    "**Observación:** la contraseña del usuario configurado es _ubuntu_.\n",
    "\n",
    "Descargar este proyecto ya sea con `git` o mediante el botón de descargar y ejecutar `notebook`.\n",
    "\n",
    "```bash\n",
    "$ git clone https://github.com/stgolarrain/recsys-labs.git\n",
    "$ cd recsys-labs/assignment-3\n",
    "$ jupyter notebook\n",
    "```\n",
    "\n",
    "Si ya tienen el repositorio descargado en la máquina virtual, puedes actualizar el código del repositorio con el siguiente comando.\n",
    "\n",
    "```bash\n",
    "$ cd recsys-labs\n",
    "$ git pull origin master\n",
    "$ de assignment-3\n",
    "```\n",
    "\n",
    "Para más detalles de cómo utilizar git puedes revisar la documentación [git pull](https://git-scm.com/docs/git-pull).\n",
    "\n",
    "Una vez descargada e importada la máquina virtual, puedes instalar las dependencias ejecutando la siguiente celda."
   ]
  },
  {
   "cell_type": "code",
   "execution_count": 1,
   "metadata": {},
   "outputs": [
    {
     "name": "stdout",
     "output_type": "stream",
     "text": [
      "Requirement already satisfied: nltk in /Library/Frameworks/Python.framework/Versions/3.6/lib/python3.6/site-packages (3.3)\n",
      "Requirement already satisfied: six in /Library/Frameworks/Python.framework/Versions/3.6/lib/python3.6/site-packages (from nltk) (1.11.0)\n",
      "Requirement already satisfied: sklearn in /Library/Frameworks/Python.framework/Versions/3.6/lib/python3.6/site-packages (0.0)\n",
      "Requirement already satisfied: scikit-learn in /Library/Frameworks/Python.framework/Versions/3.6/lib/python3.6/site-packages (from sklearn) (0.19.1)\n",
      "Requirement already satisfied: gensim in /Library/Frameworks/Python.framework/Versions/3.6/lib/python3.6/site-packages (3.4.0)\n",
      "Requirement already satisfied: scipy>=0.18.1 in /Library/Frameworks/Python.framework/Versions/3.6/lib/python3.6/site-packages (from gensim) (1.0.1)\n",
      "Requirement already satisfied: six>=1.5.0 in /Library/Frameworks/Python.framework/Versions/3.6/lib/python3.6/site-packages (from gensim) (1.11.0)\n",
      "Requirement already satisfied: numpy>=1.11.3 in /Library/Frameworks/Python.framework/Versions/3.6/lib/python3.6/site-packages (from gensim) (1.14.2)\n",
      "Requirement already satisfied: smart-open>=1.2.1 in /Library/Frameworks/Python.framework/Versions/3.6/lib/python3.6/site-packages (from gensim) (1.5.7)\n",
      "Requirement already satisfied: boto>=2.32 in /Library/Frameworks/Python.framework/Versions/3.6/lib/python3.6/site-packages (from smart-open>=1.2.1->gensim) (2.48.0)\n",
      "Requirement already satisfied: bz2file in /Library/Frameworks/Python.framework/Versions/3.6/lib/python3.6/site-packages (from smart-open>=1.2.1->gensim) (0.98)\n",
      "Requirement already satisfied: requests in /Library/Frameworks/Python.framework/Versions/3.6/lib/python3.6/site-packages (from smart-open>=1.2.1->gensim) (2.18.4)\n",
      "Requirement already satisfied: boto3 in /Library/Frameworks/Python.framework/Versions/3.6/lib/python3.6/site-packages (from smart-open>=1.2.1->gensim) (1.7.24)\n",
      "Requirement already satisfied: urllib3<1.23,>=1.21.1 in /Library/Frameworks/Python.framework/Versions/3.6/lib/python3.6/site-packages (from requests->smart-open>=1.2.1->gensim) (1.22)\n",
      "Requirement already satisfied: certifi>=2017.4.17 in /Library/Frameworks/Python.framework/Versions/3.6/lib/python3.6/site-packages (from requests->smart-open>=1.2.1->gensim) (2018.4.16)\n",
      "Requirement already satisfied: chardet<3.1.0,>=3.0.2 in /Library/Frameworks/Python.framework/Versions/3.6/lib/python3.6/site-packages (from requests->smart-open>=1.2.1->gensim) (3.0.4)\n",
      "Requirement already satisfied: idna<2.7,>=2.5 in /Library/Frameworks/Python.framework/Versions/3.6/lib/python3.6/site-packages (from requests->smart-open>=1.2.1->gensim) (2.6)\n",
      "Requirement already satisfied: jmespath<1.0.0,>=0.7.1 in /Library/Frameworks/Python.framework/Versions/3.6/lib/python3.6/site-packages (from boto3->smart-open>=1.2.1->gensim) (0.9.3)\n",
      "Requirement already satisfied: s3transfer<0.2.0,>=0.1.10 in /Library/Frameworks/Python.framework/Versions/3.6/lib/python3.6/site-packages (from boto3->smart-open>=1.2.1->gensim) (0.1.13)\n",
      "Requirement already satisfied: botocore<1.11.0,>=1.10.24 in /Library/Frameworks/Python.framework/Versions/3.6/lib/python3.6/site-packages (from boto3->smart-open>=1.2.1->gensim) (1.10.24)\n",
      "Requirement already satisfied: python-dateutil<3.0.0,>=2.1; python_version >= \"2.7\" in /Library/Frameworks/Python.framework/Versions/3.6/lib/python3.6/site-packages (from botocore<1.11.0,>=1.10.24->boto3->smart-open>=1.2.1->gensim) (2.7.2)\n",
      "Requirement already satisfied: docutils>=0.10 in /Library/Frameworks/Python.framework/Versions/3.6/lib/python3.6/site-packages (from botocore<1.11.0,>=1.10.24->boto3->smart-open>=1.2.1->gensim) (0.14)\n",
      "Requirement already satisfied: pandas in /Library/Frameworks/Python.framework/Versions/3.6/lib/python3.6/site-packages (0.22.0)\n",
      "Requirement already satisfied: python-dateutil>=2 in /Library/Frameworks/Python.framework/Versions/3.6/lib/python3.6/site-packages (from pandas) (2.7.2)\n",
      "Requirement already satisfied: pytz>=2011k in /Library/Frameworks/Python.framework/Versions/3.6/lib/python3.6/site-packages (from pandas) (2018.4)\n",
      "Requirement already satisfied: numpy>=1.9.0 in /Library/Frameworks/Python.framework/Versions/3.6/lib/python3.6/site-packages (from pandas) (1.14.2)\n",
      "Requirement already satisfied: six>=1.5 in /Library/Frameworks/Python.framework/Versions/3.6/lib/python3.6/site-packages (from python-dateutil>=2->pandas) (1.11.0)\n",
      "Requirement already satisfied: numpy in /Library/Frameworks/Python.framework/Versions/3.6/lib/python3.6/site-packages (1.14.2)\n"
     ]
    }
   ],
   "source": [
    "# Instalation setup\n",
    "! pip3 install nltk\n",
    "! pip3 install sklearn\n",
    "! pip3 install gensim\n",
    "! pip3 install pandas\n",
    "! pip3 install numpy"
   ]
  },
  {
   "cell_type": "markdown",
   "metadata": {},
   "source": [
    "# Instrucciones"
   ]
  },
  {
   "cell_type": "markdown",
   "metadata": {
    "collapsed": true
   },
   "source": [
    "En esta oportunidad tendrán que experimentar con la librería [gensim](https://radimrehurek.com/gensim/) para el modelamiento de tópicos latentes en textos. Gensim es una librería que implementa modelos de tópicos, específicamente tendrás que trabajar con [Latent Dirichlet Allocation (LDA)](https://en.wikipedia.org/wiki/Latent_Dirichlet_allocation). La librería también permite transformar texto no estructurado en diferentes representaciones vectoriales, tales como [TF-IDF](https://es.wikipedia.org/wiki/Tf-idf), y buscar similaridades mediante diferentes métricas de distancia.\n",
    "\n",
    "Este laboratorio se divide en las siguientes secciones:\n",
    "\n",
    "1. Preprocesamiento de Datos: en esta sección tendrás que descargar librerías de _Natural Language Tool Kit_, la cual implementa las funcines básicas necesarias para trabajar con texto (datos no estructurados) y transformarlos en una representación vectorial estructurada.\n",
    "2. Modelo de Recomendaciones: en la segunda sección tendrás que entrenar un modelo de tópicos latentes (LDA)\n",
    "3. Generar Recomendaciones: finalmente, tendrás que utilizar el modelo de tópicos para generar recomendaciones basadas en contenido para un usuario ficticio que ha consumido 3 documentos."
   ]
  },
  {
   "cell_type": "markdown",
   "metadata": {},
   "source": [
    "# 1. Preprocesamiento de Datos"
   ]
  },
  {
   "cell_type": "code",
   "execution_count": 2,
   "metadata": {},
   "outputs": [],
   "source": [
    "import os\n",
    "import nltk\n",
    "import sklearn\n",
    "import gensim\n",
    "import string\n",
    "import pandas as pd\n",
    "import numpy as np\n",
    "from scipy.sparse import csr_matrix\n",
    "from collections import Counter\n",
    "from nltk.corpus import stopwords\n",
    "from nltk.stem.porter import PorterStemmer \n",
    "from gensim import corpora, models, similarities\n",
    "from sklearn.neighbors import NearestNeighbors"
   ]
  },
  {
   "cell_type": "markdown",
   "metadata": {},
   "source": [
    "Antes de comenzar debemos descargar las librerías de lenguaje de [NLTK](https://www.nltk.org/), ejecutando la siguiente celda:"
   ]
  },
  {
   "cell_type": "code",
   "execution_count": 3,
   "metadata": {},
   "outputs": [
    {
     "name": "stdout",
     "output_type": "stream",
     "text": [
      "showing info https://raw.githubusercontent.com/nltk/nltk_data/gh-pages/index.xml\n"
     ]
    },
    {
     "data": {
      "text/plain": [
       "True"
      ]
     },
     "execution_count": 3,
     "metadata": {},
     "output_type": "execute_result"
    }
   ],
   "source": [
    "# Download corpora\n",
    "nltk.download()"
   ]
  },
  {
   "cell_type": "markdown",
   "metadata": {},
   "source": [
    "Para comenzar cargaremos el set de datos en un _dataframe_ de _Pandas_, e imprimimos los 5 primeros registros para visualizar la estructura de los datos."
   ]
  },
  {
   "cell_type": "code",
   "execution_count": 4,
   "metadata": {},
   "outputs": [
    {
     "data": {
      "text/html": [
       "<div>\n",
       "<style scoped>\n",
       "    .dataframe tbody tr th:only-of-type {\n",
       "        vertical-align: middle;\n",
       "    }\n",
       "\n",
       "    .dataframe tbody tr th {\n",
       "        vertical-align: top;\n",
       "    }\n",
       "\n",
       "    .dataframe thead th {\n",
       "        text-align: right;\n",
       "    }\n",
       "</style>\n",
       "<table border=\"1\" class=\"dataframe\">\n",
       "  <thead>\n",
       "    <tr style=\"text-align: right;\">\n",
       "      <th></th>\n",
       "      <th>id</th>\n",
       "      <th>title</th>\n",
       "      <th>abstract</th>\n",
       "    </tr>\n",
       "  </thead>\n",
       "  <tbody>\n",
       "    <tr>\n",
       "      <th>0</th>\n",
       "      <td>100002</td>\n",
       "      <td>Nonlinear Shape Statistics in Mumford{Shah Bas...</td>\n",
       "      <td>We present a variational integration of nonlin...</td>\n",
       "    </tr>\n",
       "    <tr>\n",
       "      <th>1</th>\n",
       "      <td>100007</td>\n",
       "      <td>On the Complexity of Equilibria</td>\n",
       "      <td>We prove complexity, approximability, and inap...</td>\n",
       "    </tr>\n",
       "    <tr>\n",
       "      <th>2</th>\n",
       "      <td>100008</td>\n",
       "      <td>On QoS-Aware Publish-Subscribe</td>\n",
       "      <td>This position paper addresses the issue of sup...</td>\n",
       "    </tr>\n",
       "    <tr>\n",
       "      <th>3</th>\n",
       "      <td>10001</td>\n",
       "      <td>Checking Mergeable Priority Queues</td>\n",
       "      <td>We present an efficient algorithm which can ch...</td>\n",
       "    </tr>\n",
       "    <tr>\n",
       "      <th>4</th>\n",
       "      <td>100012</td>\n",
       "      <td>Mobile Code Security by Java Bytecode Instrume...</td>\n",
       "      <td>Mobile code provides significant opportunities...</td>\n",
       "    </tr>\n",
       "  </tbody>\n",
       "</table>\n",
       "</div>"
      ],
      "text/plain": [
       "       id                                              title  \\\n",
       "0  100002  Nonlinear Shape Statistics in Mumford{Shah Bas...   \n",
       "1  100007                    On the Complexity of Equilibria   \n",
       "2  100008                     On QoS-Aware Publish-Subscribe   \n",
       "3   10001                 Checking Mergeable Priority Queues   \n",
       "4  100012  Mobile Code Security by Java Bytecode Instrume...   \n",
       "\n",
       "                                            abstract  \n",
       "0  We present a variational integration of nonlin...  \n",
       "1  We prove complexity, approximability, and inap...  \n",
       "2  This position paper addresses the issue of sup...  \n",
       "3  We present an efficient algorithm which can ch...  \n",
       "4  Mobile code provides significant opportunities...  "
      ]
     },
     "execution_count": 4,
     "metadata": {},
     "output_type": "execute_result"
    }
   ],
   "source": [
    "corpus_df = pd.read_csv('./dataset/corpus1.csv', sep='\\t', header=None, encoding='latin')\n",
    "corpus_df.columns = ['id', 'title', 'abstract']\n",
    "corpus_df = corpus_df[['id', 'title', 'abstract']]\n",
    "corpus_df[:5]"
   ]
  },
  {
   "cell_type": "markdown",
   "metadata": {},
   "source": [
    "Lo siguiente es implementar una función que transforme texto no estructurado a una lista de _tokens_ procesados."
   ]
  },
  {
   "cell_type": "code",
   "execution_count": 5,
   "metadata": {},
   "outputs": [
    {
     "data": {
      "text/plain": [
       "['i', \"'m\", 'a', 'super', 'student', 'for', 'recommender', 'systems', '!']"
      ]
     },
     "execution_count": 5,
     "metadata": {},
     "output_type": "execute_result"
    }
   ],
   "source": [
    "stemm = False\n",
    "stemmer = PorterStemmer()\n",
    "\n",
    "def get_tokens(text):\n",
    "    lowers = text.lower()\n",
    "    no_punctuation = lowers.translate(string.punctuation)\n",
    "    tokens = nltk.word_tokenize(no_punctuation)\n",
    "    if stemm:\n",
    "        tokens = map(stemmer.stem, tokens)\n",
    "    return tokens\n",
    "\n",
    "get_tokens(\"I'm a super student for recommender systems!\")"
   ]
  },
  {
   "cell_type": "markdown",
   "metadata": {},
   "source": [
    "**Pregunta** Explique en sus palabras qué hace la función `get_tokens()`\n",
    "\n",
    "**Respuesta** \n",
    "\n",
    "- Cambia todas las palabras a minuscula.\n",
    "- Separar el texto en vectores de palabras\n",
    "- Iterar por cada palabra separadas para encontrar su raíz común"
   ]
  },
  {
   "cell_type": "markdown",
   "metadata": {},
   "source": [
    "Ahora se tiene que generar un diccionario con todas las palabras del _corpus_. Se recomiendo revisar la documentación de gensim y leer cómo usar los diccionarios. [corpora.dictionary](https://radimrehurek.com/gensim/corpora/dictionary.html)"
   ]
  },
  {
   "cell_type": "code",
   "execution_count": 6,
   "metadata": {},
   "outputs": [
    {
     "data": {
      "text/html": [
       "<div>\n",
       "<style scoped>\n",
       "    .dataframe tbody tr th:only-of-type {\n",
       "        vertical-align: middle;\n",
       "    }\n",
       "\n",
       "    .dataframe tbody tr th {\n",
       "        vertical-align: top;\n",
       "    }\n",
       "\n",
       "    .dataframe thead th {\n",
       "        text-align: right;\n",
       "    }\n",
       "</style>\n",
       "<table border=\"1\" class=\"dataframe\">\n",
       "  <thead>\n",
       "    <tr style=\"text-align: right;\">\n",
       "      <th></th>\n",
       "      <th>id</th>\n",
       "      <th>title</th>\n",
       "      <th>abstract</th>\n",
       "      <th>tokenised_abstract</th>\n",
       "    </tr>\n",
       "  </thead>\n",
       "  <tbody>\n",
       "    <tr>\n",
       "      <th>0</th>\n",
       "      <td>100002</td>\n",
       "      <td>Nonlinear Shape Statistics in Mumford{Shah Bas...</td>\n",
       "      <td>We present a variational integration of nonlin...</td>\n",
       "      <td>[we, present, a, variational, integration, of,...</td>\n",
       "    </tr>\n",
       "    <tr>\n",
       "      <th>1</th>\n",
       "      <td>100007</td>\n",
       "      <td>On the Complexity of Equilibria</td>\n",
       "      <td>We prove complexity, approximability, and inap...</td>\n",
       "      <td>[we, prove, complexity, ,, approximability, ,,...</td>\n",
       "    </tr>\n",
       "    <tr>\n",
       "      <th>2</th>\n",
       "      <td>100008</td>\n",
       "      <td>On QoS-Aware Publish-Subscribe</td>\n",
       "      <td>This position paper addresses the issue of sup...</td>\n",
       "      <td>[this, position, paper, addresses, the, issue,...</td>\n",
       "    </tr>\n",
       "    <tr>\n",
       "      <th>3</th>\n",
       "      <td>10001</td>\n",
       "      <td>Checking Mergeable Priority Queues</td>\n",
       "      <td>We present an efficient algorithm which can ch...</td>\n",
       "      <td>[we, present, an, efficient, algorithm, which,...</td>\n",
       "    </tr>\n",
       "    <tr>\n",
       "      <th>4</th>\n",
       "      <td>100012</td>\n",
       "      <td>Mobile Code Security by Java Bytecode Instrume...</td>\n",
       "      <td>Mobile code provides significant opportunities...</td>\n",
       "      <td>[mobile, code, provides, significant, opportun...</td>\n",
       "    </tr>\n",
       "  </tbody>\n",
       "</table>\n",
       "</div>"
      ],
      "text/plain": [
       "       id                                              title  \\\n",
       "0  100002  Nonlinear Shape Statistics in Mumford{Shah Bas...   \n",
       "1  100007                    On the Complexity of Equilibria   \n",
       "2  100008                     On QoS-Aware Publish-Subscribe   \n",
       "3   10001                 Checking Mergeable Priority Queues   \n",
       "4  100012  Mobile Code Security by Java Bytecode Instrume...   \n",
       "\n",
       "                                            abstract  \\\n",
       "0  We present a variational integration of nonlin...   \n",
       "1  We prove complexity, approximability, and inap...   \n",
       "2  This position paper addresses the issue of sup...   \n",
       "3  We present an efficient algorithm which can ch...   \n",
       "4  Mobile code provides significant opportunities...   \n",
       "\n",
       "                                  tokenised_abstract  \n",
       "0  [we, present, a, variational, integration, of,...  \n",
       "1  [we, prove, complexity, ,, approximability, ,,...  \n",
       "2  [this, position, paper, addresses, the, issue,...  \n",
       "3  [we, present, an, efficient, algorithm, which,...  \n",
       "4  [mobile, code, provides, significant, opportun...  "
      ]
     },
     "execution_count": 6,
     "metadata": {},
     "output_type": "execute_result"
    }
   ],
   "source": [
    "dic_file = './resources/dictionary-stemm.p' if stemm else './resources/dictionary.p'\n",
    "if os.path.isfile(dic_file):\n",
    "    dictionary = corpora.dictionary.Dictionary().load(dic_file)\n",
    "else:\n",
    "    dictionary = corpora.dictionary.Dictionary(documents=corpus_df.tokenised_abstract.tolist())\n",
    "    dictionary.save(dic_file)\n",
    "    \n",
    "corpus_df['tokenised_abstract'] = corpus_df.abstract.map(get_tokens)\n",
    "corpus_df[:5]"
   ]
  },
  {
   "cell_type": "markdown",
   "metadata": {},
   "source": [
    "**Pregunta** Explique a qué corresponde la columan tokenised_abstract del dataframe\n",
    "\n",
    "**Respuesta** La columna tokenised_abstract son los valores de la columna abstract pero tokenizados"
   ]
  },
  {
   "cell_type": "code",
   "execution_count": 7,
   "metadata": {},
   "outputs": [
    {
     "data": {
      "text/html": [
       "<div>\n",
       "<style scoped>\n",
       "    .dataframe tbody tr th:only-of-type {\n",
       "        vertical-align: middle;\n",
       "    }\n",
       "\n",
       "    .dataframe tbody tr th {\n",
       "        vertical-align: top;\n",
       "    }\n",
       "\n",
       "    .dataframe thead th {\n",
       "        text-align: right;\n",
       "    }\n",
       "</style>\n",
       "<table border=\"1\" class=\"dataframe\">\n",
       "  <thead>\n",
       "    <tr style=\"text-align: right;\">\n",
       "      <th></th>\n",
       "      <th>id</th>\n",
       "      <th>title</th>\n",
       "      <th>abstract</th>\n",
       "      <th>bow</th>\n",
       "    </tr>\n",
       "  </thead>\n",
       "  <tbody>\n",
       "    <tr>\n",
       "      <th>0</th>\n",
       "      <td>100002</td>\n",
       "      <td>Nonlinear Shape Statistics in Mumford{Shah Bas...</td>\n",
       "      <td>We present a variational integration of nonlin...</td>\n",
       "      <td>[(0, 1), (1, 1), (2, 1), (3, 1), (4, 1), (5, 1...</td>\n",
       "    </tr>\n",
       "    <tr>\n",
       "      <th>1</th>\n",
       "      <td>100007</td>\n",
       "      <td>On the Complexity of Equilibria</td>\n",
       "      <td>We prove complexity, approximability, and inap...</td>\n",
       "      <td>[(4, 5), (7, 2), (8, 1), (10, 1), (15, 2), (30...</td>\n",
       "    </tr>\n",
       "    <tr>\n",
       "      <th>2</th>\n",
       "      <td>100008</td>\n",
       "      <td>On QoS-Aware Publish-Subscribe</td>\n",
       "      <td>This position paper addresses the issue of sup...</td>\n",
       "      <td>[(1, 1), (4, 6), (7, 1), (15, 3), (16, 1), (22...</td>\n",
       "    </tr>\n",
       "    <tr>\n",
       "      <th>3</th>\n",
       "      <td>10001</td>\n",
       "      <td>Checking Mergeable Priority Queues</td>\n",
       "      <td>We present an efficient algorithm which can ch...</td>\n",
       "      <td>[(4, 7), (7, 2), (8, 1), (10, 1), (15, 7), (16...</td>\n",
       "    </tr>\n",
       "    <tr>\n",
       "      <th>4</th>\n",
       "      <td>100012</td>\n",
       "      <td>Mobile Code Security by Java Bytecode Instrume...</td>\n",
       "      <td>Mobile code provides significant opportunities...</td>\n",
       "      <td>[(4, 4), (5, 1), (7, 1), (10, 2), (15, 6), (16...</td>\n",
       "    </tr>\n",
       "  </tbody>\n",
       "</table>\n",
       "</div>"
      ],
      "text/plain": [
       "       id                                              title  \\\n",
       "0  100002  Nonlinear Shape Statistics in Mumford{Shah Bas...   \n",
       "1  100007                    On the Complexity of Equilibria   \n",
       "2  100008                     On QoS-Aware Publish-Subscribe   \n",
       "3   10001                 Checking Mergeable Priority Queues   \n",
       "4  100012  Mobile Code Security by Java Bytecode Instrume...   \n",
       "\n",
       "                                            abstract  \\\n",
       "0  We present a variational integration of nonlin...   \n",
       "1  We prove complexity, approximability, and inap...   \n",
       "2  This position paper addresses the issue of sup...   \n",
       "3  We present an efficient algorithm which can ch...   \n",
       "4  Mobile code provides significant opportunities...   \n",
       "\n",
       "                                                 bow  \n",
       "0  [(0, 1), (1, 1), (2, 1), (3, 1), (4, 1), (5, 1...  \n",
       "1  [(4, 5), (7, 2), (8, 1), (10, 1), (15, 2), (30...  \n",
       "2  [(1, 1), (4, 6), (7, 1), (15, 3), (16, 1), (22...  \n",
       "3  [(4, 7), (7, 2), (8, 1), (10, 1), (15, 7), (16...  \n",
       "4  [(4, 4), (5, 1), (7, 1), (10, 2), (15, 6), (16...  "
      ]
     },
     "execution_count": 7,
     "metadata": {},
     "output_type": "execute_result"
    }
   ],
   "source": [
    "corpus_df['bow'] = corpus_df.tokenised_abstract.map(dictionary.doc2bow)\n",
    "del corpus_df['tokenised_abstract']\n",
    "corpus = corpus_df['bow'].tolist()\n",
    "corpus_df[:5]"
   ]
  },
  {
   "cell_type": "markdown",
   "metadata": {},
   "source": [
    "**Pregunta** Explicar a qué corresponde la columna _bow_\n",
    "\n",
    "**Respuesta** Representa el texto de forma vectorial donde se representa cada documento considerando la relevancia de cada término."
   ]
  },
  {
   "cell_type": "markdown",
   "metadata": {},
   "source": [
    "# 2. Modelo de Tópicos"
   ]
  },
  {
   "cell_type": "code",
   "execution_count": 8,
   "metadata": {},
   "outputs": [
    {
     "data": {
      "text/html": [
       "<div>\n",
       "<style scoped>\n",
       "    .dataframe tbody tr th:only-of-type {\n",
       "        vertical-align: middle;\n",
       "    }\n",
       "\n",
       "    .dataframe tbody tr th {\n",
       "        vertical-align: top;\n",
       "    }\n",
       "\n",
       "    .dataframe thead th {\n",
       "        text-align: right;\n",
       "    }\n",
       "</style>\n",
       "<table border=\"1\" class=\"dataframe\">\n",
       "  <thead>\n",
       "    <tr style=\"text-align: right;\">\n",
       "      <th></th>\n",
       "      <th>id</th>\n",
       "      <th>title</th>\n",
       "      <th>abstract</th>\n",
       "      <th>bow</th>\n",
       "      <th>tf_idf</th>\n",
       "    </tr>\n",
       "  </thead>\n",
       "  <tbody>\n",
       "    <tr>\n",
       "      <th>0</th>\n",
       "      <td>100002</td>\n",
       "      <td>Nonlinear Shape Statistics in Mumford{Shah Bas...</td>\n",
       "      <td>We present a variational integration of nonlin...</td>\n",
       "      <td>[(0, 1), (1, 1), (2, 1), (3, 1), (4, 1), (5, 1...</td>\n",
       "      <td>[(0, 0.1698699393434408), (1, 0.07433434938753...</td>\n",
       "    </tr>\n",
       "    <tr>\n",
       "      <th>1</th>\n",
       "      <td>100007</td>\n",
       "      <td>On the Complexity of Equilibria</td>\n",
       "      <td>We prove complexity, approximability, and inap...</td>\n",
       "      <td>[(4, 5), (7, 2), (8, 1), (10, 1), (15, 2), (30...</td>\n",
       "      <td>[(4, 0.0034049927904606456), (7, 0.02368271003...</td>\n",
       "    </tr>\n",
       "    <tr>\n",
       "      <th>2</th>\n",
       "      <td>100008</td>\n",
       "      <td>On QoS-Aware Publish-Subscribe</td>\n",
       "      <td>This position paper addresses the issue of sup...</td>\n",
       "      <td>[(1, 1), (4, 6), (7, 1), (15, 3), (16, 1), (22...</td>\n",
       "      <td>[(1, 0.06139095622165877), (4, 0.0048410584957...</td>\n",
       "    </tr>\n",
       "    <tr>\n",
       "      <th>3</th>\n",
       "      <td>10001</td>\n",
       "      <td>Checking Mergeable Priority Queues</td>\n",
       "      <td>We present an efficient algorithm which can ch...</td>\n",
       "      <td>[(4, 7), (7, 2), (8, 1), (10, 1), (15, 7), (16...</td>\n",
       "      <td>[(4, 0.0022335526594202118), (7, 0.01109643213...</td>\n",
       "    </tr>\n",
       "    <tr>\n",
       "      <th>4</th>\n",
       "      <td>100012</td>\n",
       "      <td>Mobile Code Security by Java Bytecode Instrume...</td>\n",
       "      <td>Mobile code provides significant opportunities...</td>\n",
       "      <td>[(4, 4), (5, 1), (7, 1), (10, 2), (15, 6), (16...</td>\n",
       "      <td>[(4, 0.0016825551149825637), (5, 0.03113607390...</td>\n",
       "    </tr>\n",
       "  </tbody>\n",
       "</table>\n",
       "</div>"
      ],
      "text/plain": [
       "       id                                              title  \\\n",
       "0  100002  Nonlinear Shape Statistics in Mumford{Shah Bas...   \n",
       "1  100007                    On the Complexity of Equilibria   \n",
       "2  100008                     On QoS-Aware Publish-Subscribe   \n",
       "3   10001                 Checking Mergeable Priority Queues   \n",
       "4  100012  Mobile Code Security by Java Bytecode Instrume...   \n",
       "\n",
       "                                            abstract  \\\n",
       "0  We present a variational integration of nonlin...   \n",
       "1  We prove complexity, approximability, and inap...   \n",
       "2  This position paper addresses the issue of sup...   \n",
       "3  We present an efficient algorithm which can ch...   \n",
       "4  Mobile code provides significant opportunities...   \n",
       "\n",
       "                                                 bow  \\\n",
       "0  [(0, 1), (1, 1), (2, 1), (3, 1), (4, 1), (5, 1...   \n",
       "1  [(4, 5), (7, 2), (8, 1), (10, 1), (15, 2), (30...   \n",
       "2  [(1, 1), (4, 6), (7, 1), (15, 3), (16, 1), (22...   \n",
       "3  [(4, 7), (7, 2), (8, 1), (10, 1), (15, 7), (16...   \n",
       "4  [(4, 4), (5, 1), (7, 1), (10, 2), (15, 6), (16...   \n",
       "\n",
       "                                              tf_idf  \n",
       "0  [(0, 0.1698699393434408), (1, 0.07433434938753...  \n",
       "1  [(4, 0.0034049927904606456), (7, 0.02368271003...  \n",
       "2  [(1, 0.06139095622165877), (4, 0.0048410584957...  \n",
       "3  [(4, 0.0022335526594202118), (7, 0.01109643213...  \n",
       "4  [(4, 0.0016825551149825637), (5, 0.03113607390...  "
      ]
     },
     "execution_count": 8,
     "metadata": {},
     "output_type": "execute_result"
    }
   ],
   "source": [
    "tfidf_model_file = 'resources/tfidf_model-stemm.p' if stemm else 'resources/tfidf_model.p'\n",
    "if os.path.isfile(tfidf_model_file):\n",
    "    tfidf_model = models.tfidfmodel.TfidfModel().load(tfidf_model_file)\n",
    "else:\n",
    "    tfidf_model = models.tfidfmodel.TfidfModel(corpus, dictionary=dictionary)\n",
    "    tfidf_model.save(tfidf_model_file)\n",
    "\n",
    "# tfidf_model = models.tfidfmodel.TfidfModel(corpus, dictionary=dictionary)\n",
    "corpus_df['tf_idf'] = tfidf_model[corpus_df.bow.tolist()]\n",
    "corpus_df[:5]"
   ]
  },
  {
   "cell_type": "markdown",
   "metadata": {},
   "source": [
    "**Pregunta** Explicar a qué corresponde la columna tf_idf y por qué es útil en el procesamiento de texto. Mencione sus 2 principales parts, mediante la explicación del puntaje.\n",
    "\n",
    "**Respuesta** la columna tf_idf muestra el puntaje de la frecuencia de términos en toda la colección de documentos, como se puede observar las 2 parts principales corresponden a los ids **[100007, 10001]** donde el puntaje de la frecuencia de los terminos es mayor. "
   ]
  },
  {
   "cell_type": "markdown",
   "metadata": {},
   "source": [
    "A continuación entrenaremos un modelo LDA."
   ]
  },
  {
   "cell_type": "code",
   "execution_count": 9,
   "metadata": {},
   "outputs": [
    {
     "data": {
      "text/html": [
       "<div>\n",
       "<style scoped>\n",
       "    .dataframe tbody tr th:only-of-type {\n",
       "        vertical-align: middle;\n",
       "    }\n",
       "\n",
       "    .dataframe tbody tr th {\n",
       "        vertical-align: top;\n",
       "    }\n",
       "\n",
       "    .dataframe thead th {\n",
       "        text-align: right;\n",
       "    }\n",
       "</style>\n",
       "<table border=\"1\" class=\"dataframe\">\n",
       "  <thead>\n",
       "    <tr style=\"text-align: right;\">\n",
       "      <th></th>\n",
       "      <th>id</th>\n",
       "      <th>title</th>\n",
       "      <th>abstract</th>\n",
       "      <th>bow</th>\n",
       "      <th>tf_idf</th>\n",
       "      <th>lda</th>\n",
       "    </tr>\n",
       "  </thead>\n",
       "  <tbody>\n",
       "    <tr>\n",
       "      <th>0</th>\n",
       "      <td>100002</td>\n",
       "      <td>Nonlinear Shape Statistics in Mumford{Shah Bas...</td>\n",
       "      <td>We present a variational integration of nonlin...</td>\n",
       "      <td>[(0, 1), (1, 1), (2, 1), (3, 1), (4, 1), (5, 1...</td>\n",
       "      <td>[(0, 0.1698699393434408), (1, 0.07433434938753...</td>\n",
       "      <td>[(2, 0.8580955), (7, 0.12651847)]</td>\n",
       "    </tr>\n",
       "    <tr>\n",
       "      <th>1</th>\n",
       "      <td>100007</td>\n",
       "      <td>On the Complexity of Equilibria</td>\n",
       "      <td>We prove complexity, approximability, and inap...</td>\n",
       "      <td>[(4, 5), (7, 2), (8, 1), (10, 1), (15, 2), (30...</td>\n",
       "      <td>[(4, 0.0034049927904606456), (7, 0.02368271003...</td>\n",
       "      <td>[(1, 0.13715997), (2, 0.6316505), (4, 0.057881...</td>\n",
       "    </tr>\n",
       "    <tr>\n",
       "      <th>2</th>\n",
       "      <td>100008</td>\n",
       "      <td>On QoS-Aware Publish-Subscribe</td>\n",
       "      <td>This position paper addresses the issue of sup...</td>\n",
       "      <td>[(1, 1), (4, 6), (7, 1), (15, 3), (16, 1), (22...</td>\n",
       "      <td>[(1, 0.06139095622165877), (4, 0.0048410584957...</td>\n",
       "      <td>[(2, 0.17472342), (5, 0.58359134), (7, 0.23325...</td>\n",
       "    </tr>\n",
       "    <tr>\n",
       "      <th>3</th>\n",
       "      <td>10001</td>\n",
       "      <td>Checking Mergeable Priority Queues</td>\n",
       "      <td>We present an efficient algorithm which can ch...</td>\n",
       "      <td>[(4, 7), (7, 2), (8, 1), (10, 1), (15, 7), (16...</td>\n",
       "      <td>[(4, 0.0022335526594202118), (7, 0.01109643213...</td>\n",
       "      <td>[(1, 0.5959923), (7, 0.39924502)]</td>\n",
       "    </tr>\n",
       "    <tr>\n",
       "      <th>4</th>\n",
       "      <td>100012</td>\n",
       "      <td>Mobile Code Security by Java Bytecode Instrume...</td>\n",
       "      <td>Mobile code provides significant opportunities...</td>\n",
       "      <td>[(4, 4), (5, 1), (7, 1), (10, 2), (15, 6), (16...</td>\n",
       "      <td>[(4, 0.0016825551149825637), (5, 0.03113607390...</td>\n",
       "      <td>[(2, 0.15740693), (5, 0.20869948), (7, 0.57065...</td>\n",
       "    </tr>\n",
       "  </tbody>\n",
       "</table>\n",
       "</div>"
      ],
      "text/plain": [
       "       id                                              title  \\\n",
       "0  100002  Nonlinear Shape Statistics in Mumford{Shah Bas...   \n",
       "1  100007                    On the Complexity of Equilibria   \n",
       "2  100008                     On QoS-Aware Publish-Subscribe   \n",
       "3   10001                 Checking Mergeable Priority Queues   \n",
       "4  100012  Mobile Code Security by Java Bytecode Instrume...   \n",
       "\n",
       "                                            abstract  \\\n",
       "0  We present a variational integration of nonlin...   \n",
       "1  We prove complexity, approximability, and inap...   \n",
       "2  This position paper addresses the issue of sup...   \n",
       "3  We present an efficient algorithm which can ch...   \n",
       "4  Mobile code provides significant opportunities...   \n",
       "\n",
       "                                                 bow  \\\n",
       "0  [(0, 1), (1, 1), (2, 1), (3, 1), (4, 1), (5, 1...   \n",
       "1  [(4, 5), (7, 2), (8, 1), (10, 1), (15, 2), (30...   \n",
       "2  [(1, 1), (4, 6), (7, 1), (15, 3), (16, 1), (22...   \n",
       "3  [(4, 7), (7, 2), (8, 1), (10, 1), (15, 7), (16...   \n",
       "4  [(4, 4), (5, 1), (7, 1), (10, 2), (15, 6), (16...   \n",
       "\n",
       "                                              tf_idf  \\\n",
       "0  [(0, 0.1698699393434408), (1, 0.07433434938753...   \n",
       "1  [(4, 0.0034049927904606456), (7, 0.02368271003...   \n",
       "2  [(1, 0.06139095622165877), (4, 0.0048410584957...   \n",
       "3  [(4, 0.0022335526594202118), (7, 0.01109643213...   \n",
       "4  [(4, 0.0016825551149825637), (5, 0.03113607390...   \n",
       "\n",
       "                                                 lda  \n",
       "0                  [(2, 0.8580955), (7, 0.12651847)]  \n",
       "1  [(1, 0.13715997), (2, 0.6316505), (4, 0.057881...  \n",
       "2  [(2, 0.17472342), (5, 0.58359134), (7, 0.23325...  \n",
       "3                  [(1, 0.5959923), (7, 0.39924502)]  \n",
       "4  [(2, 0.15740693), (5, 0.20869948), (7, 0.57065...  "
      ]
     },
     "execution_count": 9,
     "metadata": {},
     "output_type": "execute_result"
    }
   ],
   "source": [
    "topic_number = 10\n",
    "\n",
    "lda_model = models.LdaModel(corpus, num_topics=topic_number, id2word=dictionary, passes=5, iterations=200)\n",
    "corpus_df['lda'] = lda_model[corpus_df.bow.tolist()]\n",
    "corpus_df[:5]"
   ]
  },
  {
   "cell_type": "markdown",
   "metadata": {},
   "source": [
    "**Pregunta** Explique qué representa la columna lda, ¿qué significan cada tupla de números?\n",
    "\n",
    "**Respuesta** El termino lda calcula probabilidad que un documento tenga un tópico asociado, la tupla representa la probabilidad de que la primera palabra pertenezca al tópico de la segunda"
   ]
  },
  {
   "cell_type": "markdown",
   "metadata": {},
   "source": [
    "En la siguiente celda se mostrarán 10 tópicos del modelo LDA."
   ]
  },
  {
   "cell_type": "code",
   "execution_count": 10,
   "metadata": {},
   "outputs": [
    {
     "data": {
      "text/plain": [
       "[(0,\n",
       "  '0.028*\",\" + 0.018*\"[\" + 0.018*\"]\" + 0.015*\"(\" + 0.014*\")\" + 0.011*\"university\" + 0.010*\"science\" + 0.007*\"computer\" + 0.006*\"--\" + 0.006*\"department\"'),\n",
       " (1,\n",
       "  '0.111*\".\" + 0.039*\"the\" + 0.039*\",\" + 0.021*\"of\" + 0.018*\"and\" + 0.015*\"a\" + 0.014*\"to\" + 0.012*\"in\" + 0.011*\"for\" + 0.009*\"is\"'),\n",
       " (2,\n",
       "  '0.060*\"the\" + 0.043*\"of\" + 0.038*\".\" + 0.035*\",\" + 0.030*\"a\" + 0.021*\"and\" + 0.020*\"in\" + 0.020*\"to\" + 0.017*\"is\" + 0.013*\"for\"'),\n",
       " (3,\n",
       "  '0.324*\":\" + 0.012*\"network\" + 0.008*\"the\" + 0.008*\"routing\" + 0.008*\"protocol\" + 0.008*\",\" + 0.006*\"a\" + 0.006*\"and\" + 0.006*\"protocols\" + 0.006*\"multicast\"'),\n",
       " (4,\n",
       "  '0.043*\")\" + 0.042*\"(\" + 0.034*\",\" + 0.020*\"the\" + 0.018*\"of\" + 0.016*\".\" + 0.016*\"n\" + 0.015*\";\" + 0.014*\"a\" + 0.013*\"#\"'),\n",
       " (5,\n",
       "  '0.050*\"the\" + 0.046*\",\" + 0.039*\"of\" + 0.037*\"and\" + 0.034*\".\" + 0.024*\"to\" + 0.022*\"a\" + 0.019*\"in\" + 0.013*\"for\" + 0.011*\"this\"'),\n",
       " (6,\n",
       "  '0.006*\"broadcast\" + 0.006*\"causal\" + 0.006*\"networks\" + 0.005*\"network\" + 0.005*\"sites\" + 0.005*\"counting\" + 0.004*\",\" + 0.004*\"messages\" + 0.004*\"abduction\" + 0.004*\"p2p\"'),\n",
       " (7,\n",
       "  '0.053*\"the\" + 0.040*\",\" + 0.040*\"of\" + 0.037*\".\" + 0.031*\"a\" + 0.024*\"to\" + 0.023*\"and\" + 0.019*\"in\" + 0.016*\"is\" + 0.012*\"for\"'),\n",
       " (8,\n",
       "  '0.005*\"de\" + 0.005*\"beliefs\" + 0.004*\"resolution\" + 0.004*\"intensity\" + 0.003*\"sensor\" + 0.003*\"children\" + 0.003*\"overloading\" + 0.003*\"revision\" + 0.002*\"belief\" + 0.002*\"logic\"'),\n",
       " (9,\n",
       "  '0.145*\"...\" + 0.004*\"r\" + 0.004*\"des\" + 0.002*\"fi\" + 0.002*\"lattices\" + 0.002*\"`\" + 0.002*\"r.\" + 0.002*\"auditory\" + 0.002*\"ssa\" + 0.002*\"contents\"')]"
      ]
     },
     "execution_count": 10,
     "metadata": {},
     "output_type": "execute_result"
    }
   ],
   "source": [
    "lda_model.print_topics(10)"
   ]
  },
  {
   "cell_type": "markdown",
   "metadata": {},
   "source": [
    "**Pregunta** ¿Qué representa lo impreso en la celda anterior?\n",
    "\n",
    "**Respuesta** Representa el puntaje y la probabilidad de que las palabras esten asociadas"
   ]
  },
  {
   "cell_type": "markdown",
   "metadata": {},
   "source": [
    "**Pregunta** A su parecer, ¿son buenos los tópicos encontrados por el modelo? ¿cómo se podrían mejorar?\n",
    "\n",
    "**Respuesta** No, para mejora los resultados recomiendo excluir los signos de puntuación y palabras comunes como [\"and, \"a\", \"of\", \"is\", \"for\"], etc"
   ]
  },
  {
   "cell_type": "markdown",
   "metadata": {},
   "source": [
    "# 3. Generar Recomendaciones"
   ]
  },
  {
   "cell_type": "markdown",
   "metadata": {},
   "source": [
    "En esta sección se implementan las funciones necesarias para poder generar recomendaciones dado lo que un usuario ha consumido. De manera artificial, se samplearán 3 documentos aleatorios que representarán al usuario objetivo (`sample`). Luego tendrás que generar diferentes recomendaciones y evaluar los resultados."
   ]
  },
  {
   "cell_type": "code",
   "execution_count": 11,
   "metadata": {},
   "outputs": [
    {
     "name": "stdout",
     "output_type": "stream",
     "text": [
      "1) An Ecient Implementation of Multiple Return Values in Scheme\n",
      "\n",
      "This paper describes an implementation of the new Scheme multiple values interface. The implementation handles multiple values efficiently, with no run-time overhead for normal calls and returns. Error checks are performed where necessary to insure that the expected number of values is returned in all situations. The implementation fits cleanly with our direct-style compiler and stack-based representation of control, but is equally well suited to continuation-passing style compilers and to heap-based run-time architectures.\n",
      "\n",
      "\n",
      "2) Black-Box Analysis of the Block-Cipher-Based Hash-Function Constructions from PGV\n",
      "\n",
      "Preneel, Govaerts, and Vandewalle considered the 64 most basic ways to construct a hash function $HColonits^* ightarrowits^n$ from a block cipher $EColon its^n imes its^n ightarrow its^n$. They regarded 12 of these 64 schemes as secure, though no proofs or formal claims were given. The remaining 52 schemes were shown to be subject to various attacks. Here we provide a formal and quantitative treatment of the 64 constructions considered by PGV. We prove that, in a black-box model, the 12 schemes that PGV singled out as secure really  extit{are} secure: we give tight upper and lower bounds on their collision resistance. Furthermore, by stepping outside of the Merkle-Damgard approach to analysis, we show that an additional 8 of the 64 schemes are just as collision resistant (up to a small constant) as the first group of schemes. Nonetheless, we are able to differentiate among the 20 collision-resistant schemes by bounding their security as one-way functions. We suggest that proving black-box bounds, of the style given here, is a feasible and useful step for understanding the security of any block-cipher-based hash-function construction. \n",
      "\n",
      "\n",
      "3) OdeView: The Graphical Interface to Ode\n",
      "\n",
      "OdeView is the graphical front end for Ode, an object-oriented database system and environment. Ode's data model supports data encapsulation, type inheritance, and complex objects. OdeView provides facilities for examining the database schema (i.e., the object type or class hierarchy), examining class definitions, browsing objects, following chains of references starting from an object, synchronized browsing, displaying selected portions of objects (projection), and retrieving objects with specific characteristics (selection). OdeView does not need to know about the internals of Ode objects. Consequently, the internals of specific classes are not hardwired into OdeView and new classes can be added to the Ode database without requiring any changes to or recompilation of OdeView. Just as OdeView does not know about the object internals, class functions (methods) for displaying objects are written without knowing about the specifics of the windowing software used by OdeView or the graphi...\n",
      "\n",
      "\n"
     ]
    }
   ],
   "source": [
    "# Random user\n",
    "\n",
    "samples = corpus_df.sample(3)\n",
    "\n",
    "for n, (ix, paper) in enumerate(samples.iterrows()):\n",
    "    idx, title, abstract, bow, tf_idf, lda = paper\n",
    "    print('%d) %s' % (n+1, title))\n",
    "    print('')\n",
    "    print(abstract)\n",
    "    print('\\n' )"
   ]
  },
  {
   "cell_type": "code",
   "execution_count": 12,
   "metadata": {},
   "outputs": [],
   "source": [
    "# Recommendation functions\n",
    "\n",
    "N = len(dictionary)\n",
    "\n",
    "def to_sparse(matrix):\n",
    "    return csr_matrix([gensim.matutils.sparse2full(row, length=N) for row in matrix]) \n",
    "\n",
    "def make_recommendations(model, metric, neighbors):\n",
    "    M = len(corpus)\n",
    "\n",
    "    X = to_sparse(corpus_df[model].tolist())\n",
    "    document_index = NearestNeighbors(n_neighbors=(neighbors + 1), algorithm='brute', metric=metric).fit(X)\n",
    "    return document_index\n",
    "\n",
    "def print_recommendations(indexes, model):\n",
    "    for n, (ix, paper) in enumerate(samples.iterrows()):\n",
    "        dists, neighbors = indexes.kneighbors([gensim.matutils.sparse2full(paper[model],length=N)])\n",
    "        print(paper['title'])\n",
    "        print('')\n",
    "        print('Documentos cercanos: ')\n",
    "        i = 1\n",
    "        for neighbour in neighbors[0]:\n",
    "            if ix != neighbour:\n",
    "                line = str(i) + \". \" + corpus_df.iloc[neighbour]['title']\n",
    "                print(line)\n",
    "                i+=1\n",
    "        print('\\n')\n",
    "    "
   ]
  },
  {
   "cell_type": "markdown",
   "metadata": {},
   "source": [
    "A continuación deberá utilizar las funciones implementadas anteriormente para generar nuevas recomendaciones variando los parámetros del modelo. Agregue nuevas celdas para cada implementación y/o pregunta."
   ]
  },
  {
   "cell_type": "code",
   "execution_count": 13,
   "metadata": {},
   "outputs": [
    {
     "name": "stdout",
     "output_type": "stream",
     "text": [
      "An Ecient Implementation of Multiple Return Values in Scheme\n",
      "\n",
      "Documentos cercanos: \n",
      "1. Value Profiling and Optimization\n",
      "2. Dictionary-free Overloading by Partial Evaluation\n",
      "3. Speculative Execution based on Value Prediction\n",
      "4. Encoding Types in ML-like Languages\n",
      "5. Run-time Code Generation and Modal-ML\n",
      "\n",
      "\n",
      "Black-Box Analysis of the Block-Cipher-Based Hash-Function Constructions from PGV\n",
      "\n",
      "Documentos cercanos: \n",
      "1. New Public-Key Schemes Based on Elliptic Curves over the Ring Z_n\n",
      "2. On Interactive Visualization of High-dimensional Data using the Hyperbolic Plane\n",
      "3. A Secure Signature Scheme from Bilinear Maps\n",
      "4. Universal One-Way Hash Functions and their Cryptographic Applications\n",
      "5. How To Prove Yourself: Practical Solutions to Identification and Signature Problems\n",
      "\n",
      "\n",
      "OdeView: The Graphical Interface to Ode\n",
      "\n",
      "Documentos cercanos: \n",
      "1. ODE (Object Database and Environment): The Language and the Data Model\n",
      "2. Towards Reusable Real-Time Objects\n",
      "3. Rationale for the Design of Persistence and Query Processing Facilities in the Database Programming Language O++\n",
      "4. Using Schema Information for Querying Databases\n",
      "5. Meta Object Management and its Application to Database Evolution\n",
      "\n",
      "\n"
     ]
    }
   ],
   "source": [
    "document_index = make_recommendations('tf_idf', 'euclidean', 5)\n",
    "print_recommendations(document_index, 'tf_idf')"
   ]
  },
  {
   "cell_type": "code",
   "execution_count": 14,
   "metadata": {},
   "outputs": [
    {
     "name": "stdout",
     "output_type": "stream",
     "text": [
      "An Ecient Implementation of Multiple Return Values in Scheme\n",
      "\n",
      "Documentos cercanos: \n",
      "1. Value Profiling and Optimization\n",
      "2. Dictionary-free Overloading by Partial Evaluation\n",
      "3. Speculative Execution based on Value Prediction\n",
      "4. Encoding Types in ML-like Languages\n",
      "5. Run-time Code Generation and Modal-ML\n",
      "6. Implementation Approaches for Reconfigurable Logic Applications\n",
      "7. OASIS: An Optimizing Action-based Compiler Generator\n",
      "8. On Decomposition for Incomplete Data\n",
      "9. Catching Accurate Profiles in Hardware\n",
      "10. Just-in-Time Aspects: Efficient Dynamic Weaving for Java\n",
      "\n",
      "\n",
      "Black-Box Analysis of the Block-Cipher-Based Hash-Function Constructions from PGV\n",
      "\n",
      "Documentos cercanos: \n",
      "1. New Public-Key Schemes Based on Elliptic Curves over the Ring Z_n\n",
      "2. On Interactive Visualization of High-dimensional Data using the Hyperbolic Plane\n",
      "3. A Secure Signature Scheme from Bilinear Maps\n",
      "4. Universal One-Way Hash Functions and their Cryptographic Applications\n",
      "5. How To Prove Yourself: Practical Solutions to Identification and Signature Problems\n",
      "6. An Evaluation of Directory Schemes for Cache Coherence\n",
      "7. Specifying Timed State Sequences in Powerful Decidable Logics and Timed Automata (Extended Abstract)\n",
      "8. Provably Secure Blind Signature Schemes\n",
      "9. Optical Fault Induction Attacks\n",
      "10. Foundations of Cryptography\n",
      "\n",
      "\n",
      "OdeView: The Graphical Interface to Ode\n",
      "\n",
      "Documentos cercanos: \n",
      "1. ODE (Object Database and Environment): The Language and the Data Model\n",
      "2. Towards Reusable Real-Time Objects\n",
      "3. Rationale for the Design of Persistence and Query Processing Facilities in the Database Programming Language O++\n",
      "4. Using Schema Information for Querying Databases\n",
      "5. Meta Object Management and its Application to Database Evolution\n",
      "6. Ode as an Active Database: Constraints and Triggers\n",
      "7. Class Management for Software Communities\n",
      "8. Ownership Types for Object Encapsulation\n",
      "9. A Query Algebra for Object-Oriented Databases\n",
      "10. Practical Reliable Bayesian Recognition of 2D and 3D Objects Using Implicit Polynomials and Algebraic Invariants\n",
      "\n",
      "\n"
     ]
    }
   ],
   "source": [
    "document_index = make_recommendations('tf_idf', 'euclidean', 10)\n",
    "print_recommendations(document_index, 'tf_idf')"
   ]
  },
  {
   "cell_type": "code",
   "execution_count": 15,
   "metadata": {},
   "outputs": [
    {
     "name": "stdout",
     "output_type": "stream",
     "text": [
      "An Ecient Implementation of Multiple Return Values in Scheme\n",
      "\n",
      "Documentos cercanos: \n",
      "1. Value Profiling and Optimization\n",
      "2. Dictionary-free Overloading by Partial Evaluation\n",
      "3. Speculative Execution based on Value Prediction\n",
      "4. Encoding Types in ML-like Languages\n",
      "5. Run-time Code Generation and Modal-ML\n",
      "6. Implementation Approaches for Reconfigurable Logic Applications\n",
      "7. OASIS: An Optimizing Action-based Compiler Generator\n",
      "8. On Decomposition for Incomplete Data\n",
      "9. Catching Accurate Profiles in Hardware\n",
      "10. Just-in-Time Aspects: Efficient Dynamic Weaving for Java\n",
      "11. Partial Evaluation for Dictionary-free Overloading\n",
      "12. Optimizing ML with Run-Time Code Generation\n",
      "13. Compiler and Run-Time Support for Irregular Computations\n",
      "14. A Provably Correct Compiler Generator\n",
      "15. Sideway Value Algebra for Object-Relational Databases\n",
      "16. Program Integration for Languages with Procedure Calls\n",
      "17. CCured in the Real World\n",
      "18. Elimination of Redundant Array Subscript Range Checks\n",
      "19. Value Profiling\n",
      "20. Lambda-Calculus Schemata\n",
      "\n",
      "\n",
      "Black-Box Analysis of the Block-Cipher-Based Hash-Function Constructions from PGV\n",
      "\n",
      "Documentos cercanos: \n",
      "1. New Public-Key Schemes Based on Elliptic Curves over the Ring Z_n\n",
      "2. On Interactive Visualization of High-dimensional Data using the Hyperbolic Plane\n",
      "3. A Secure Signature Scheme from Bilinear Maps\n",
      "4. Universal One-Way Hash Functions and their Cryptographic Applications\n",
      "5. How To Prove Yourself: Practical Solutions to Identification and Signature Problems\n",
      "6. An Evaluation of Directory Schemes for Cache Coherence\n",
      "7. Specifying Timed State Sequences in Powerful Decidable Logics and Timed Automata (Extended Abstract)\n",
      "8. Provably Secure Blind Signature Schemes\n",
      "9. Optical Fault Induction Attacks\n",
      "10. Foundations of Cryptography\n",
      "11. Secure Videoconferencing\n",
      "12. Engineering Diffusive Load Balancing Algorithms Using Experiments\n",
      "13. Conceptual Design of Data Warehouses from E/R Schemes\n",
      "14. Recoverable Mobile Environment: Design and Trade-off Analysis\n",
      "15. Tiger: A Fast New Hash Function\n",
      "16. Complexity and Security of Distributed Protocols\n",
      "17. Natural Proofs\n",
      "18. Towards Making Broadcast Encryption Practical\n",
      "19. An Efficient Protocol for Yao's Millionaires' Problem\n",
      "20. Prioritised Fuzzy Constraint Satisfaction Problems: Axioms, Instantiation and Validation\n",
      "\n",
      "\n",
      "OdeView: The Graphical Interface to Ode\n",
      "\n",
      "Documentos cercanos: \n",
      "1. ODE (Object Database and Environment): The Language and the Data Model\n",
      "2. Towards Reusable Real-Time Objects\n",
      "3. Rationale for the Design of Persistence and Query Processing Facilities in the Database Programming Language O++\n",
      "4. Using Schema Information for Querying Databases\n",
      "5. Meta Object Management and its Application to Database Evolution\n",
      "6. Ode as an Active Database: Constraints and Triggers\n",
      "7. Class Management for Software Communities\n",
      "8. Ownership Types for Object Encapsulation\n",
      "9. A Query Algebra for Object-Oriented Databases\n",
      "10. Practical Reliable Bayesian Recognition of 2D and 3D Objects Using Implicit Polynomials and Algebraic Invariants\n",
      "11. Qualitative Simulation: Then and Now\n",
      "12. Object Migration\n",
      "13. Tractable Query Languages for Complex Object Databases\n",
      "14. A Formal Approach to Analyzing the Browsing Semantics of Hypertext\n",
      "15. Conceptual Clustering of Complex Objects: A Generalization Space based Approach\n",
      "16. DOOR: A Dynamic Object-Oriented Data Model with Roles\n",
      "17. Relationships between Dynamic Objects\n",
      "18. An Extended Theory of Primitive Objects: First Order System\n",
      "19. Complex Feature Recognition: A Bayesian Approach for Learning to Recognize Objects\n",
      "20. An Object Data Model with Roles\n",
      "\n",
      "\n"
     ]
    }
   ],
   "source": [
    "document_index = make_recommendations('tf_idf', 'euclidean', 20)\n",
    "print_recommendations(document_index, 'tf_idf')"
   ]
  },
  {
   "cell_type": "markdown",
   "metadata": {},
   "source": [
    "** Pregunta** Ejecute el modelo utilizando como representación `tf-idf` y métrica de distancia euclideana. Modifique el parámetro nearest_neighbors a [5, 10, 20]. ¿qué efecto tiene el modelo en las recomendaciones observadas?\n",
    "\n",
    "**Respuesta** Mientras más vecinos, mejores son las recomendaciones pero el costo aumenta a medida de que aumenta la cantidad de vecinos cercanos"
   ]
  },
  {
   "cell_type": "code",
   "execution_count": 16,
   "metadata": {},
   "outputs": [
    {
     "name": "stdout",
     "output_type": "stream",
     "text": [
      "An Ecient Implementation of Multiple Return Values in Scheme\n",
      "\n",
      "Documentos cercanos: \n",
      "1. Value Profiling and Optimization\n",
      "2. Dictionary-free Overloading by Partial Evaluation\n",
      "3. Speculative Execution based on Value Prediction\n",
      "4. Encoding Types in ML-like Languages\n",
      "5. Run-time Code Generation and Modal-ML\n",
      "6. Implementation Approaches for Reconfigurable Logic Applications\n",
      "7. OASIS: An Optimizing Action-based Compiler Generator\n",
      "8. On Decomposition for Incomplete Data\n",
      "9. Catching Accurate Profiles in Hardware\n",
      "10. Just-in-Time Aspects: Efficient Dynamic Weaving for Java\n",
      "\n",
      "\n",
      "Black-Box Analysis of the Block-Cipher-Based Hash-Function Constructions from PGV\n",
      "\n",
      "Documentos cercanos: \n",
      "1. New Public-Key Schemes Based on Elliptic Curves over the Ring Z_n\n",
      "2. On Interactive Visualization of High-dimensional Data using the Hyperbolic Plane\n",
      "3. A Secure Signature Scheme from Bilinear Maps\n",
      "4. Universal One-Way Hash Functions and their Cryptographic Applications\n",
      "5. How To Prove Yourself: Practical Solutions to Identification and Signature Problems\n",
      "6. An Evaluation of Directory Schemes for Cache Coherence\n",
      "7. Specifying Timed State Sequences in Powerful Decidable Logics and Timed Automata (Extended Abstract)\n",
      "8. Provably Secure Blind Signature Schemes\n",
      "9. Optical Fault Induction Attacks\n",
      "10. Foundations of Cryptography\n",
      "\n",
      "\n",
      "OdeView: The Graphical Interface to Ode\n",
      "\n",
      "Documentos cercanos: \n",
      "1. ODE (Object Database and Environment): The Language and the Data Model\n",
      "2. Towards Reusable Real-Time Objects\n",
      "3. Rationale for the Design of Persistence and Query Processing Facilities in the Database Programming Language O++\n",
      "4. Using Schema Information for Querying Databases\n",
      "5. Meta Object Management and its Application to Database Evolution\n",
      "6. Ode as an Active Database: Constraints and Triggers\n",
      "7. Class Management for Software Communities\n",
      "8. Ownership Types for Object Encapsulation\n",
      "9. A Query Algebra for Object-Oriented Databases\n",
      "10. Practical Reliable Bayesian Recognition of 2D and 3D Objects Using Implicit Polynomials and Algebraic Invariants\n",
      "\n",
      "\n"
     ]
    }
   ],
   "source": [
    "document_index = make_recommendations('tf_idf', 'cosine', 10)\n",
    "print_recommendations(document_index, 'tf_idf')"
   ]
  },
  {
   "cell_type": "markdown",
   "metadata": {},
   "source": [
    "**Pregunta** Eligiendo un valor fijo para nearest neighbors y utilizando representación `tf-idf`, ejecute el modelo con métrica de distancia _cosine_.¿Qué efecto tiene la métrica de distancia en las recomendaciones observadas?\n",
    "\n",
    "**Respuesta** "
   ]
  },
  {
   "cell_type": "code",
   "execution_count": 17,
   "metadata": {},
   "outputs": [
    {
     "name": "stdout",
     "output_type": "stream",
     "text": [
      "An Ecient Implementation of Multiple Return Values in Scheme\n",
      "\n",
      "Documentos cercanos: \n",
      "1. HOL-OCL: Experiences, Consequences and Design Choices\n",
      "2. Towards a Declarative Query and Transformation Language for XML and Semistructured Data: Simulation Unification\n",
      "3. Pegasus: An Efficient Intermediate Representation\n",
      "4. Automatic Generation of Program Specifications\n",
      "5. Composing Hidden Information Modules over Inclusive Institutions\n",
      "6. Executable Temporal Logic for Nonmonotonic Reasoning\n",
      "7. Defining the Java Virtual Machine as Platform for Provably Correct Java Compilation\n",
      "8. From Operational Semantics to Denotational Semantics for Verilog\n",
      "9. A Hybrid Approach To Representation In The Janus Natural Language Processor\n",
      "10. Consistent Answers from Integrated Data Sources\n",
      "\n",
      "\n",
      "Black-Box Analysis of the Block-Cipher-Based Hash-Function Constructions from PGV\n",
      "\n",
      "Documentos cercanos: \n",
      "1. What Do Message Sequence Charts Mean?\n",
      "2. Authenticated Data Structures for Graph and Geometric Searching\n",
      "3. The Power of Reflective Relational Machines\n",
      "4. The Importance of Prior Probabilities for Entry Page Search Wessel Kraaij\n",
      "5. Analysing Approximate Confinement under Uniform Attacks\n",
      "6. Datalog Queries of Set Constraint Databases\n",
      "7. Hash-Based IP Traceback\n",
      "8. Concurrent Constraint Programming and Non-Commutative Logic\n",
      "9. Infinite Behaviour and Fairness in Concurrent Constraint Programming\n",
      "10. Sound Rules for Parallel Evaluation of a Functional Language with callcc\n",
      "\n",
      "\n",
      "OdeView: The Graphical Interface to Ode\n",
      "\n",
      "Documentos cercanos: \n",
      "1. Abduction from Logic Programs: Semantics and Complexity\n",
      "2. Fischer's Protocol Revisited: A Simple Proof Using Modal Constraints\n",
      "3. Bilattices and the Semantics of Logic Programming\n",
      "4. A Causal Theory of Ramifications and Qualifications\n",
      "5. Can Invisible Watermarks Resolve Rightful Ownerships?\n",
      "6. Resolving Rightful Ownerships with Invisible Watermarking Techniques: Limitations, Attacks, and Implications\n",
      "7. Proof Rules for Automated Compositional Verification\n",
      "8. A Visual Language for Querying and Updating Graphs\n",
      "9. Object-Oriented Patterns.\n",
      "10. Information Retrieval On The Semantic Web\n",
      "\n",
      "\n"
     ]
    }
   ],
   "source": [
    "document_index = make_recommendations('lda', 'euclidean', 10)\n",
    "print_recommendations(document_index, 'lda')"
   ]
  },
  {
   "cell_type": "markdown",
   "metadata": {},
   "source": [
    "**Pregunta** Eligiendo un valor fijo de nearest_neighbors y modelo _lda_ ¿Qué efecto tiene el usar LDA versus TF-IDF en las recomendaciones observadas?\n",
    "\n",
    "**Respuesta**"
   ]
  },
  {
   "cell_type": "code",
   "execution_count": 18,
   "metadata": {},
   "outputs": [
    {
     "name": "stdout",
     "output_type": "stream",
     "text": [
      "An Ecient Implementation of Multiple Return Values in Scheme\n",
      "\n",
      "Documentos cercanos: \n",
      "1. HOL-OCL: Experiences, Consequences and Design Choices\n",
      "2. Towards a Declarative Query and Transformation Language for XML and Semistructured Data: Simulation Unification\n",
      "3. Pegasus: An Efficient Intermediate Representation\n",
      "4. Composing Hidden Information Modules over Inclusive Institutions\n",
      "5. Automatic Generation of Program Specifications\n",
      "\n",
      "\n",
      "Black-Box Analysis of the Block-Cipher-Based Hash-Function Constructions from PGV\n",
      "\n",
      "Documentos cercanos: \n",
      "1. What Do Message Sequence Charts Mean?\n",
      "2. Authenticated Data Structures for Graph and Geometric Searching\n",
      "3. The Power of Reflective Relational Machines\n",
      "4. The Importance of Prior Probabilities for Entry Page Search Wessel Kraaij\n",
      "5. Analysing Approximate Confinement under Uniform Attacks\n",
      "\n",
      "\n",
      "OdeView: The Graphical Interface to Ode\n",
      "\n",
      "Documentos cercanos: \n",
      "1. Abduction from Logic Programs: Semantics and Complexity\n",
      "2. Fischer's Protocol Revisited: A Simple Proof Using Modal Constraints\n",
      "3. Bilattices and the Semantics of Logic Programming\n",
      "4. A Causal Theory of Ramifications and Qualifications\n",
      "5. Can Invisible Watermarks Resolve Rightful Ownerships?\n",
      "\n",
      "\n"
     ]
    }
   ],
   "source": [
    "document_index = make_recommendations('lda', 'euclidean', 5)\n",
    "print_recommendations(document_index, 'lda')"
   ]
  },
  {
   "cell_type": "markdown",
   "metadata": {},
   "source": [
    "**Pregunta** Pruebe nuevamente con LDA usando sólo 5 tópicos ¿qué efecto tiene el número de tópicos en las recomendaciones observadas?\n",
    "\n",
    "**Respuesta**"
   ]
  },
  {
   "cell_type": "code",
   "execution_count": 19,
   "metadata": {},
   "outputs": [],
   "source": [
    "# Recommendation example\n",
    "# \n",
    "# doc_idx = make_recommendations('tf_idf', 'euclidean', 5)\n",
    "# print_recommendations(doc_idx, 'tf_idf')"
   ]
  },
  {
   "cell_type": "markdown",
   "metadata": {},
   "source": [
    "## Entregable\n",
    "\n",
    "Una vez completado el laboratorio y respondido las preguntas deberán exportar este archivo en formato `html` y subir a la plataforma _Moodle_.\n",
    "\n",
    "Para exportar este archivo deben ir a `File > Donwload as > HTML (.html)`\n",
    "\n",
    "Si tienen algún problema o duda enviar mail a **dparra [at] ing [dot] puc [dot] cl** o **slarrain [at] uc [dot] cl** anteponiendo [Diplomada Bog Data] en el asunto."
   ]
  }
 ],
 "metadata": {
  "kernelspec": {
   "display_name": "Python 3",
   "language": "python",
   "name": "python3"
  },
  "language_info": {
   "codemirror_mode": {
    "name": "ipython",
    "version": 3
   },
   "file_extension": ".py",
   "mimetype": "text/x-python",
   "name": "python",
   "nbconvert_exporter": "python",
   "pygments_lexer": "ipython3",
   "version": "3.6.5"
  }
 },
 "nbformat": 4,
 "nbformat_minor": 1
}
